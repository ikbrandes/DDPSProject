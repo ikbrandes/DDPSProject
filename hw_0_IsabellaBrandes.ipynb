{
  "cells": [
    {
      "cell_type": "markdown",
      "metadata": {
        "id": "view-in-github",
        "colab_type": "text"
      },
      "source": [
        "<a href=\"https://colab.research.google.com/github/ikbrandes/DDPSProject/blob/main/hw_0_IsabellaBrandes.ipynb\" target=\"_parent\"><img src=\"https://colab.research.google.com/assets/colab-badge.svg\" alt=\"Open In Colab\"/></a>"
      ]
    },
    {
      "cell_type": "markdown",
      "metadata": {
        "id": "XrMa6LoBkXKv"
      },
      "source": [
        "# Homework 0\n",
        "\n",
        "_[General assignment information](https://python-public-policy.afeld.me/en/{{school_slug}}/assignments.html)_\n",
        "\n",
        "[Kaggle](https://www.kaggle.com/) is a data science platform that has various [tutorials](https://www.kaggle.com/learn/overview) and [competitions](https://www.kaggle.com/competitions), which you may want to go back to later. You are welcome to create a Kaggle account to save your progress, but it's not required.\n",
        "\n",
        "Kaggle, like {{coding_env_name}}, is built around Jupyter notebooks. They are not _exactly_ the same, but will feel similar. For this homework:\n",
        "\n",
        "1. Do following Kaggle [Learn Python](https://www.kaggle.com/learn/python) tutorials and exercises. You do not need to turn these in.\n",
        "    - [Hello, Python](https://www.kaggle.com/colinmorris/hello-python)\n",
        "    - [Booleans and Conditionals](https://www.kaggle.com/colinmorris/booleans-and-conditionals)\n",
        "    - [Strings and Dictionaries](https://www.kaggle.com/colinmorris/strings-and-dictionaries)\n",
        "1. Read about:\n",
        "    - [Working with Lists and Dictionaries](https://www.section.io/engineering-education/lists-and-dictionaries-python/)\n",
        "    - [Errors and exceptions](https://swcarpentry.github.io/python-novice-inflammation/09-errors/index.html)\n",
        "1. Do the coding challenges below.\n",
        "1. Do the following Kaggle tutorials and exercises. You do not need to turn these in.\n",
        "    - [Python Lists](https://www.kaggle.com/colinmorris/lists)\n",
        "    - [Creating, Reading, and Writing with Pandas](https://www.kaggle.com/residentmario/creating-reading-and-writing)\n",
        "1. Post a question, per the instructions at the bottom.\n",
        "1. [Turn in this notebook.](https://python-public-policy.afeld.me/en/{{school_slug}}/assignments.html)\n",
        "\n",
        "## Coding\n",
        "\n",
        "### Getting input\n",
        "\n",
        "To get information from a user, we can use Python's [`input()`](https://docs.python.org/3/library/functions.html#input) function."
      ]
    },
    {
      "cell_type": "code",
      "execution_count": null,
      "metadata": {
        "colab": {
          "base_uri": "https://localhost:8080/",
          "height": 53
        },
        "id": "zYORRzeykXKw",
        "outputId": "be1224a4-85b4-4f34-c93b-de2bf86bc403"
      },
      "outputs": [
        {
          "name": "stdout",
          "output_type": "stream",
          "text": [
            "Give me a word: ok\n"
          ]
        },
        {
          "output_type": "execute_result",
          "data": {
            "text/plain": [
              "'ok'"
            ],
            "application/vnd.google.colaboratory.intrinsic+json": {
              "type": "string"
            }
          },
          "metadata": {},
          "execution_count": 4
        }
      ],
      "source": [
        "word = input(\"Give me a word: \")\n",
        "word"
      ]
    },
    {
      "cell_type": "markdown",
      "metadata": {
        "id": "zDULJ7eCkXKx"
      },
      "source": [
        "### Step 0: Mad lib\n",
        "\n",
        "You are going to make a (short) interactive [mad lib](https://hobbylark.com/party-games/How-to-Make-Your-Own-Mad-Libs). Use a paragraph of a story or the chorus from a song, or make one up. Prompt for each of the words (\"noun\", \"verb\", \"vehicle\", etc.), then once they are all entered, it output the mad lib with the provided words filled in. You will be using multiple `inputs()` and string concatentation."
      ]
    },
    {
      "cell_type": "code",
      "execution_count": 2,
      "metadata": {
        "tags": [
          "solution"
        ],
        "id": "HT5oTpEzkXKx",
        "colab": {
          "base_uri": "https://localhost:8080/"
        },
        "outputId": "a392e033-8b54-4848-bcde-465d13ea4dcd"
      },
      "outputs": [
        {
          "output_type": "stream",
          "name": "stdout",
          "text": [
            "Famous Person: b\n",
            "Emotion: a\n",
            "Adjective: c\n",
            "Skill: d\n",
            "Acivity: e\n",
            "Today was the day that  b was going to learn how to code in Python. They were feeling  a about the prospect of learning this  c new tool. No worries, it couldn't be harder than learning how to  d or  e"
          ]
        }
      ],
      "source": [
        "# your code here\n",
        "## Today was the day that (Famous Person) was going to learn how to code in Python.\n",
        "## They were feeling (emotion) about the prospect of learning this (adjective) new tool.\n",
        "## No worries, it couldn't be harder than learning how to (skill) or (activity).\n",
        "\n",
        "word1 = input(\"Famous Person: \")\n",
        "word2 = input(\"Emotion: \")\n",
        "word3 = input(\"Adjective: \")\n",
        "word4 = input(\"Skill: \")\n",
        "word5 = input(\"Acivity: \")\n",
        "\n",
        "a = 'Today was the day that'\n",
        "b = 'was going to learn how to code in Python. They were feeling'\n",
        "c = 'about the prospect of learning this'\n",
        "d = 'new tool. No worries, it couldn\\'t be harder than learning how to'\n",
        "e = 'or'\n",
        "\n",
        "print(a, word1, b, word2, c, word3, d, word4, e, word5, end='')"
      ]
    },
    {
      "cell_type": "markdown",
      "metadata": {
        "id": "-9LVvC8KkXKy"
      },
      "source": [
        "### Numeric input\n",
        "\n",
        "`input()` always returns a string. To get a number from a user in Python, you need to convert that input into a integer (or float)."
      ]
    },
    {
      "cell_type": "code",
      "execution_count": 17,
      "metadata": {
        "colab": {
          "base_uri": "https://localhost:8080/",
          "height": 364
        },
        "id": "3YdjbYDWkXKy",
        "outputId": "d6877965-4807-405c-86db-49166410842b"
      },
      "outputs": [
        {
          "output_type": "error",
          "ename": "KeyboardInterrupt",
          "evalue": "ignored",
          "traceback": [
            "\u001b[0;31m---------------------------------------------------------------------------\u001b[0m",
            "\u001b[0;31mKeyboardInterrupt\u001b[0m                         Traceback (most recent call last)",
            "\u001b[0;32m<ipython-input-17-0d61cd14b8c3>\u001b[0m in \u001b[0;36m<module>\u001b[0;34m\u001b[0m\n\u001b[0;32m----> 1\u001b[0;31m num = input(\n\u001b[0m\u001b[1;32m      2\u001b[0m     \u001b[0;34m\"Pick a number, any number. Please enter the value without commas or decimals. > \"\u001b[0m\u001b[0;34m\u001b[0m\u001b[0;34m\u001b[0m\u001b[0m\n\u001b[1;32m      3\u001b[0m )\n\u001b[1;32m      4\u001b[0m \u001b[0mnum\u001b[0m\u001b[0;34m\u001b[0m\u001b[0;34m\u001b[0m\u001b[0m\n",
            "\u001b[0;32m/usr/local/lib/python3.8/dist-packages/ipykernel/kernelbase.py\u001b[0m in \u001b[0;36mraw_input\u001b[0;34m(self, prompt)\u001b[0m\n\u001b[1;32m    858\u001b[0m                 \u001b[0;34m\"raw_input was called, but this frontend does not support input requests.\"\u001b[0m\u001b[0;34m\u001b[0m\u001b[0;34m\u001b[0m\u001b[0m\n\u001b[1;32m    859\u001b[0m             )\n\u001b[0;32m--> 860\u001b[0;31m         return self._input_request(str(prompt),\n\u001b[0m\u001b[1;32m    861\u001b[0m             \u001b[0mself\u001b[0m\u001b[0;34m.\u001b[0m\u001b[0m_parent_ident\u001b[0m\u001b[0;34m,\u001b[0m\u001b[0;34m\u001b[0m\u001b[0;34m\u001b[0m\u001b[0m\n\u001b[1;32m    862\u001b[0m             \u001b[0mself\u001b[0m\u001b[0;34m.\u001b[0m\u001b[0m_parent_header\u001b[0m\u001b[0;34m,\u001b[0m\u001b[0;34m\u001b[0m\u001b[0;34m\u001b[0m\u001b[0m\n",
            "\u001b[0;32m/usr/local/lib/python3.8/dist-packages/ipykernel/kernelbase.py\u001b[0m in \u001b[0;36m_input_request\u001b[0;34m(self, prompt, ident, parent, password)\u001b[0m\n\u001b[1;32m    902\u001b[0m             \u001b[0;32mexcept\u001b[0m \u001b[0mKeyboardInterrupt\u001b[0m\u001b[0;34m:\u001b[0m\u001b[0;34m\u001b[0m\u001b[0;34m\u001b[0m\u001b[0m\n\u001b[1;32m    903\u001b[0m                 \u001b[0;31m# re-raise KeyboardInterrupt, to truncate traceback\u001b[0m\u001b[0;34m\u001b[0m\u001b[0;34m\u001b[0m\u001b[0;34m\u001b[0m\u001b[0m\n\u001b[0;32m--> 904\u001b[0;31m                 \u001b[0;32mraise\u001b[0m \u001b[0mKeyboardInterrupt\u001b[0m\u001b[0;34m(\u001b[0m\u001b[0;34m\"Interrupted by user\"\u001b[0m\u001b[0;34m)\u001b[0m \u001b[0;32mfrom\u001b[0m \u001b[0;32mNone\u001b[0m\u001b[0;34m\u001b[0m\u001b[0;34m\u001b[0m\u001b[0m\n\u001b[0m\u001b[1;32m    905\u001b[0m             \u001b[0;32mexcept\u001b[0m \u001b[0mException\u001b[0m \u001b[0;32mas\u001b[0m \u001b[0me\u001b[0m\u001b[0;34m:\u001b[0m\u001b[0;34m\u001b[0m\u001b[0;34m\u001b[0m\u001b[0m\n\u001b[1;32m    906\u001b[0m                 \u001b[0mself\u001b[0m\u001b[0;34m.\u001b[0m\u001b[0mlog\u001b[0m\u001b[0;34m.\u001b[0m\u001b[0mwarning\u001b[0m\u001b[0;34m(\u001b[0m\u001b[0;34m\"Invalid Message:\"\u001b[0m\u001b[0;34m,\u001b[0m \u001b[0mexc_info\u001b[0m\u001b[0;34m=\u001b[0m\u001b[0;32mTrue\u001b[0m\u001b[0;34m)\u001b[0m\u001b[0;34m\u001b[0m\u001b[0;34m\u001b[0m\u001b[0m\n",
            "\u001b[0;31mKeyboardInterrupt\u001b[0m: Interrupted by user"
          ]
        }
      ],
      "source": [
        "num = input(\n",
        "    \"Pick a number, any number. Please enter the value without commas or decimals. > \"\n",
        ")\n",
        "num"
      ]
    },
    {
      "cell_type": "code",
      "execution_count": null,
      "metadata": {
        "id": "JccBpQ0EkXKy"
      },
      "outputs": [],
      "source": [
        "type(num)"
      ]
    },
    {
      "cell_type": "code",
      "execution_count": null,
      "metadata": {
        "id": "GarVw0gCkXKy"
      },
      "outputs": [],
      "source": [
        "int(num)"
      ]
    },
    {
      "cell_type": "markdown",
      "metadata": {
        "id": "zYbHYn4SkXKy"
      },
      "source": [
        "### Step 1: Unemployment benefit eligibility assessment\n",
        "\n",
        "We will now make an interactive tool to assess people for unemployment benefits. We will use a simplified set of rules. To be elegible, one must:\n",
        "\n",
        "- Have lost employment\n",
        "- Have made at least $10,000 in the past year\n",
        "    - Ask for their salary rather than as a yes-or-no question\n",
        "- Be ready, willing and able to work immediately\n",
        "- Be actively seeking work\n",
        "\n",
        "Ask the user questions corresponding to the above, then print `\"You are eligible\"` or `\"You are not eligible\"` at the end. You will need:\n",
        "\n",
        "- `input()`s\n",
        "- `int()`\n",
        "- Conditional(s)"
      ]
    },
    {
      "cell_type": "markdown",
      "metadata": {
        "id": "Wx_8jtT7kXKz"
      },
      "source": [
        "Now [turn in the assignment](https://python-public-policy.afeld.me/en/{{school_slug}}/assignments.html).\n",
        "\n",
        "## Participation\n",
        "\n",
        "Reminder about the [between-class participation requirement](https://python-public-policy.afeld.me/en/{{school_slug}}/syllabus.html#participation)."
      ]
    },
    {
      "cell_type": "code",
      "execution_count": 54,
      "metadata": {
        "tags": [
          "solution"
        ],
        "id": "_3scsiOCkXKz",
        "colab": {
          "base_uri": "https://localhost:8080/"
        },
        "outputId": "51826bf2-ba22-4812-f1f4-5b78838c3eb7"
      },
      "outputs": [
        {
          "output_type": "stream",
          "name": "stdout",
          "text": [
            "Have you lost employment? (yes/no): yes\n",
            "Proceed to the next question\n",
            "How much (in US dollars) have you made in the past year? (numerical values only)111111111\n",
            "Proceed to the next question\n",
            "Are you ready, willing and able to work immediately? (yes/no): yes\n",
            "Proceed to the next question\n",
            "Are you actively seeking work? (yes/no): no\n",
            "Sorry, you are not eligible\n"
          ]
        }
      ],
      "source": [
        "# code 1 (checks eligibility along the way)\n",
        "\n",
        "user_input1 = input('Have you lost employment? (yes/no): ')\n",
        "\n",
        "if user_input1.lower() == 'yes':\n",
        "    print('Proceed to the next question')\n",
        "    num = input(\n",
        "    \"How much (in US dollars) have you made in the past year? (numerical values only)\"\n",
        "    )\n",
        "    num\n",
        "    salary = int(num)\n",
        "    if salary >= 10000:\n",
        "        print('Proceed to the next question')\n",
        "        user_input2 = input('Are you ready, willing and able to work immediately? (yes/no): ')\n",
        "        if user_input2 == 'yes':\n",
        "            print('Proceed to the next question')\n",
        "            user_input3 = input('Are you actively seeking work? (yes/no): ')\n",
        "            if user_input3 == 'yes':\n",
        "                print('You are eligible')\n",
        "            else:\n",
        "                print('Sorry, you are not eligible')\n",
        "        else:\n",
        "            print('Sorry, you are not eligible')\n",
        "\n",
        "    else:\n",
        "        print('Sorry, you are not eligible')\n",
        "\n",
        "\n",
        "else:\n",
        "    print('Sorry, you are not eligible')\n",
        "\n"
      ]
    },
    {
      "cell_type": "code",
      "source": [
        "# code 2 (gives eligibility at end)\n",
        "\n",
        "user_input1 = input('Have you lost employment? (yes/no): ')\n",
        "num = input(\n",
        "    \"How much (in US dollars) have you made in the past year? (numerical values only)\"\n",
        ")\n",
        "num\n",
        "salary = int(num)\n",
        "user_input2 = input('Are you ready, willing and able to work immediately? (yes/no): ')\n",
        "user_input3 = input('Are you actively seeking work? (yes/no): ')\n",
        "\n",
        "if user_input1.lower() == 'yes' and salary >= 10000 and user_input2 == 'yes' and user_input3 == 'yes':\n",
        "  print('You are eligible')\n",
        "\n",
        "else:\n",
        "  print('Sorry, you are not eligible')\n"
      ],
      "metadata": {
        "colab": {
          "base_uri": "https://localhost:8080/"
        },
        "id": "oXIVK2lbywN7",
        "outputId": "afbebe92-91a0-411b-8bbf-1d9ea6425422"
      },
      "execution_count": 38,
      "outputs": [
        {
          "output_type": "stream",
          "name": "stdout",
          "text": [
            "Have you lost employment? (yes/no): no\n",
            "How much (in US dollars) have you made in the past year? (numerical values only)1000000\n",
            "Are you ready, willing and able to work immediately? (yes/no): yes\n",
            "Are you actively seeking work? (yes/no): yes\n",
            "Sorry, you are not eligible\n"
          ]
        }
      ]
    }
  ],
  "metadata": {
    "file_extension": ".py",
    "kernelspec": {
      "display_name": "Python [conda env:python-public-policy] *",
      "language": "python",
      "name": "conda-env-python-public-policy-py"
    },
    "language_info": {
      "codemirror_mode": {
        "name": "ipython",
        "version": 3
      },
      "file_extension": ".py",
      "mimetype": "text/x-python",
      "name": "python",
      "nbconvert_exporter": "python",
      "pygments_lexer": "ipython3",
      "version": "3.10.8"
    },
    "mimetype": "text/x-python",
    "name": "python",
    "npconvert_exporter": "python",
    "pygments_lexer": "ipython3",
    "version": 3,
    "colab": {
      "provenance": [],
      "toc_visible": true,
      "include_colab_link": true
    }
  },
  "nbformat": 4,
  "nbformat_minor": 0
}