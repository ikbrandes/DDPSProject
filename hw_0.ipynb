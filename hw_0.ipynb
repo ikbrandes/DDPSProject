{
  "cells": [
    {
      "cell_type": "markdown",
      "metadata": {
        "id": "XrMa6LoBkXKv"
      },
      "source": [
        "# Homework 0\n",
        "\n",
        "_[General assignment information](https://python-public-policy.afeld.me/en/{{school_slug}}/assignments.html)_\n",
        "\n",
        "[Kaggle](https://www.kaggle.com/) is a data science platform that has various [tutorials](https://www.kaggle.com/learn/overview) and [competitions](https://www.kaggle.com/competitions), which you may want to go back to later. You are welcome to create a Kaggle account to save your progress, but it's not required.\n",
        "\n",
        "Kaggle, like {{coding_env_name}}, is built around Jupyter notebooks. They are not _exactly_ the same, but will feel similar. For this homework:\n",
        "\n",
        "1. Do following Kaggle [Learn Python](https://www.kaggle.com/learn/python) tutorials and exercises. You do not need to turn these in.\n",
        "    - [Hello, Python](https://www.kaggle.com/colinmorris/hello-python)\n",
        "    - [Booleans and Conditionals](https://www.kaggle.com/colinmorris/booleans-and-conditionals)\n",
        "    - [Strings and Dictionaries](https://www.kaggle.com/colinmorris/strings-and-dictionaries)\n",
        "1. Read about:\n",
        "    - [Working with Lists and Dictionaries](https://www.section.io/engineering-education/lists-and-dictionaries-python/)\n",
        "    - [Errors and exceptions](https://swcarpentry.github.io/python-novice-inflammation/09-errors/index.html)\n",
        "1. Do the coding challenges below.\n",
        "1. Do the following Kaggle tutorials and exercises. You do not need to turn these in.\n",
        "    - [Python Lists](https://www.kaggle.com/colinmorris/lists)\n",
        "    - [Creating, Reading, and Writing with Pandas](https://www.kaggle.com/residentmario/creating-reading-and-writing)\n",
        "1. Post a question, per the instructions at the bottom.\n",
        "1. [Turn in this notebook.](https://python-public-policy.afeld.me/en/{{school_slug}}/assignments.html)\n",
        "\n",
        "## Coding\n",
        "\n",
        "### Getting input\n",
        "\n",
        "To get information from a user, we can use Python's [`input()`](https://docs.python.org/3/library/functions.html#input) function."
      ]
    },
    {
      "cell_type": "code",
      "execution_count": null,
      "metadata": {
        "id": "zYORRzeykXKw"
      },
      "outputs": [],
      "source": [
        "word = input(\"Give me a word: \")\n",
        "word"
      ]
    },
    {
      "cell_type": "markdown",
      "metadata": {
        "id": "zDULJ7eCkXKx"
      },
      "source": [
        "### Step 0: Mad lib\n",
        "\n",
        "You are going to make a (short) interactive [mad lib](https://hobbylark.com/party-games/How-to-Make-Your-Own-Mad-Libs). Use a paragraph of a story or the chorus from a song, or make one up. Prompt for each of the words (\"noun\", \"verb\", \"vehicle\", etc.), then once they are all entered, it output the mad lib with the provided words filled in. You will be using multiple `inputs()` and string concatentation."
      ]
    },
    {
      "cell_type": "code",
      "execution_count": null,
      "metadata": {
        "tags": [
          "solution"
        ],
        "id": "HT5oTpEzkXKx"
      },
      "outputs": [],
      "source": [
        "# your code here"
      ]
    },
    {
      "cell_type": "markdown",
      "metadata": {
        "id": "-9LVvC8KkXKy"
      },
      "source": [
        "### Numeric input\n",
        "\n",
        "`input()` always returns a string. To get a number from a user in Python, you need to convert that input into a integer (or float)."
      ]
    },
    {
      "cell_type": "code",
      "execution_count": null,
      "metadata": {
        "id": "3YdjbYDWkXKy"
      },
      "outputs": [],
      "source": [
        "num = input(\n",
        "    \"Pick a number, any number. Please enter the value without commas or decimals. > \"\n",
        ")\n",
        "num"
      ]
    },
    {
      "cell_type": "code",
      "execution_count": null,
      "metadata": {
        "id": "JccBpQ0EkXKy"
      },
      "outputs": [],
      "source": [
        "type(num)"
      ]
    },
    {
      "cell_type": "code",
      "execution_count": null,
      "metadata": {
        "id": "GarVw0gCkXKy"
      },
      "outputs": [],
      "source": [
        "int(num)"
      ]
    },
    {
      "cell_type": "markdown",
      "metadata": {
        "id": "zYbHYn4SkXKy"
      },
      "source": [
        "### Step 1: Unemployment benefit eligibility assessment\n",
        "\n",
        "We will now make an interactive tool to assess people for unemployment benefits. We will use a simplified set of rules. To be elegible, one must:\n",
        "\n",
        "- Have lost employment\n",
        "- Have made at least $10,000 in the past year\n",
        "    - Ask for their salary rather than as a yes-or-no question\n",
        "- Be ready, willing and able to work immediately\n",
        "- Be actively seeking work\n",
        "\n",
        "Ask the user questions corresponding to the above, then print `\"You are eligible\"` or `\"You are not eligible\"` at the end. You will need:\n",
        "\n",
        "- `input()`s\n",
        "- `int()`\n",
        "- Conditional(s)"
      ]
    },
    {
      "cell_type": "code",
      "execution_count": null,
      "metadata": {
        "tags": [
          "solution"
        ],
        "id": "_3scsiOCkXKz"
      },
      "outputs": [],
      "source": [
        "# your code here"
      ]
    },
    {
      "cell_type": "markdown",
      "metadata": {
        "id": "Wx_8jtT7kXKz"
      },
      "source": [
        "Now [turn in the assignment](https://python-public-policy.afeld.me/en/{{school_slug}}/assignments.html).\n",
        "\n",
        "## Participation\n",
        "\n",
        "Reminder about the [between-class participation requirement](https://python-public-policy.afeld.me/en/{{school_slug}}/syllabus.html#participation)."
      ]
    }
  ],
  "metadata": {
    "file_extension": ".py",
    "kernelspec": {
      "display_name": "Python [conda env:python-public-policy] *",
      "language": "python",
      "name": "conda-env-python-public-policy-py"
    },
    "language_info": {
      "codemirror_mode": {
        "name": "ipython",
        "version": 3
      },
      "file_extension": ".py",
      "mimetype": "text/x-python",
      "name": "python",
      "nbconvert_exporter": "python",
      "pygments_lexer": "ipython3",
      "version": "3.10.8"
    },
    "mimetype": "text/x-python",
    "name": "python",
    "npconvert_exporter": "python",
    "pygments_lexer": "ipython3",
    "version": 3,
    "colab": {
      "provenance": []
    }
  },
  "nbformat": 4,
  "nbformat_minor": 0
}